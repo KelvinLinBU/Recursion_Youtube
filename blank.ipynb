{
 "cells": [
  {
   "cell_type": "markdown",
   "id": "5a9503bc",
   "metadata": {},
   "source": [
    "## The Ultimate Formula to Recursion!\n",
    "\n",
    "Recursion might seem confusing at first, but there's a very simple 3-step formula that makes it much more approachable. "
   ]
  },
  {
   "cell_type": "markdown",
   "id": "e4961cba",
   "metadata": {},
   "source": [
    "### Recursive Factorial Function\n",
    "Say we want to define a recursive function that returns the factorial of n. \n",
    "\n",
    "Remember that the factorial of a non-negative integer **n** is defined as:\n",
    "\n",
    "$\n",
    "n! = n \\times (n-1) \\times (n-2) \\times \\dots \\times 1\n",
    "$\n",
    "\n",
    "### Examples\n",
    "\n",
    "- **1! = 1**\n",
    "- **2! = 2 × 1 = 2**\n",
    "- **3! = 3 × 2 × 1 = 6**\n",
    "- **4! = 4 × 3 × 2 × 1 = 24**\n",
    "- **5! = 5 × 4 × 3 × 2 × 1 = 120**"
   ]
  },
  {
   "cell_type": "markdown",
   "id": "44af4db4",
   "metadata": {},
   "source": [
    "### 1. Find the 'base' case\n",
    "What is the smallest and most basic version of the in the context of the problem? What is the 'base' that we start off of? How do we want to deal with this base case? "
   ]
  },
  {
   "cell_type": "markdown",
   "id": "1e0a17f8",
   "metadata": {},
   "source": [
    "Simplest case for factorial?"
   ]
  },
  {
   "cell_type": "markdown",
   "id": "dbca8d84",
   "metadata": {},
   "source": [
    "So how can we implement this? "
   ]
  },
  {
   "cell_type": "code",
   "execution_count": null,
   "id": "92f33df5",
   "metadata": {},
   "outputs": [],
   "source": []
  },
  {
   "cell_type": "markdown",
   "id": "26359331",
   "metadata": {},
   "source": [
    "### 2. Find the recursive case"
   ]
  },
  {
   "cell_type": "markdown",
   "id": "499035cf",
   "metadata": {},
   "source": [
    "Now, generally, what are the other cases aside from the base case?  \n",
    "\n",
    "Given that we know the base case, how do we eventually reach it in the context of our problem?  \n",
    "\n",
    "- If we start with **2!**, how do we reduce it down to **1!**?  \n",
    "- And if we have **3!**, how do we reduce it down to **2!**, and then from there to **1!**?\n",
    "\n",
    "\n"
   ]
  },
  {
   "cell_type": "markdown",
   "id": "fc455b06",
   "metadata": {},
   "source": [
    "Recursive case for factorial?"
   ]
  },
  {
   "cell_type": "markdown",
   "id": "ed6502cc",
   "metadata": {},
   "source": [
    "So how can we implement this? "
   ]
  },
  {
   "cell_type": "code",
   "execution_count": null,
   "id": "a44296cc",
   "metadata": {},
   "outputs": [],
   "source": []
  },
  {
   "cell_type": "markdown",
   "id": "7d8cc203",
   "metadata": {},
   "source": [
    "### 3. Combine"
   ]
  },
  {
   "cell_type": "markdown",
   "id": "dd300cb1",
   "metadata": {},
   "source": [
    "Once we have figured out the base and recursive cases, it's as simple as combining them. The base case MUST go first, and the recursive case follows. "
   ]
  },
  {
   "cell_type": "code",
   "execution_count": null,
   "id": "4a2e4f81",
   "metadata": {},
   "outputs": [],
   "source": []
  },
  {
   "cell_type": "markdown",
   "id": "e094f1cb",
   "metadata": {},
   "source": [
    "Let's test our function out! "
   ]
  },
  {
   "cell_type": "code",
   "execution_count": null,
   "id": "a8e6f928",
   "metadata": {},
   "outputs": [],
   "source": [
    "# Test cases\n",
    "examples = {\n",
    "    1: 1,\n",
    "    2: 2,\n",
    "    3: 6,\n",
    "    4: 24,\n",
    "    5: 120\n",
    "}\n",
    "\n",
    "for n, expected in examples.items():\n",
    "    result = factorial(n)\n",
    "    print(f\"{n}! = {result} (expected {expected})\")\n",
    "    assert result == expected, f\"Test failed for {n}! Expected {expected}, got {result}\"\n",
    "\n",
    "print(\"All tests passed!\")"
   ]
  }
 ],
 "metadata": {
  "kernelspec": {
   "display_name": "venv (3.12.6)",
   "language": "python",
   "name": "python3"
  },
  "language_info": {
   "codemirror_mode": {
    "name": "ipython",
    "version": 3
   },
   "file_extension": ".py",
   "mimetype": "text/x-python",
   "name": "python",
   "nbconvert_exporter": "python",
   "pygments_lexer": "ipython3",
   "version": "3.12.6"
  }
 },
 "nbformat": 4,
 "nbformat_minor": 5
}
